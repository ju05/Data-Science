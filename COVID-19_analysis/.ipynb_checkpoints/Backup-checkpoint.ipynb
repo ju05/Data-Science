{
 "cells": [
  {
   "cell_type": "code",
   "execution_count": null,
   "id": "a3a59d3b",
   "metadata": {},
   "outputs": [],
   "source": [
    "# slicing the columns in groups of 183 days or 6 months VALUES FOR ISRAEL\n",
    "\n",
    "# def to_years(days:list):\n",
    "#     days = list(just_dates_deaths_df.columns.values)\n",
    "#     year2020 = []\n",
    "#     year2021 = []\n",
    "#     year2022 = []\n",
    "    \n",
    "    \n",
    "#     for i, day in enumerate(days):\n",
    "#         day = day.split('/')\n",
    "    \n",
    "#         if day[2]==20:\n",
    "#             year2020.append(day)\n",
    "#         if day[2]==21:\n",
    "#             year2021.append(day)\n",
    "#         if day[2]==22:\n",
    "#             year2022.append(day)\n",
    "\n",
    "#     return year2020, year2021, year2022\n",
    "\n",
    "# year2020, year2021, year2022  = to_years(days)\n",
    "\n",
    "# year2021   \n",
    "    \n",
    "# semester1_2020 = columns_list[:164]\n",
    "# semester2_2020 = columns_list[162:324]\n",
    "# semester1_2021 = columns_list[325:507]\n",
    "# semester2_2021 = columns_list[508:690]\n",
    "# semester1_2022 = columns_list[691:873]\n",
    "# semester2_2022 = columns_list[874:]\n",
    "# year2020 = semester1_2020 + semester2_2020\n",
    "# year2021 = semester1_2021 + semester2_2021\n",
    "# year2022 = semester1_2022 + semester2_2022"
   ]
  }
 ],
 "metadata": {
  "kernelspec": {
   "display_name": "Python 3 (ipykernel)",
   "language": "python",
   "name": "python3"
  },
  "language_info": {
   "codemirror_mode": {
    "name": "ipython",
    "version": 3
   },
   "file_extension": ".py",
   "mimetype": "text/x-python",
   "name": "python",
   "nbconvert_exporter": "python",
   "pygments_lexer": "ipython3",
   "version": "3.7.4"
  }
 },
 "nbformat": 4,
 "nbformat_minor": 5
}
