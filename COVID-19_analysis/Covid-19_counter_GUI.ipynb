{
 "cells": [
  {
   "cell_type": "code",
   "execution_count": 1,
   "id": "2399f213",
   "metadata": {},
   "outputs": [],
   "source": [
    "from tkinter import *\n",
    "from tkinter.ttk import *\n",
    "\n",
    "\n",
    "\n"
   ]
  },
  {
   "cell_type": "code",
   "execution_count": 3,
   "id": "6b7b41d2",
   "metadata": {},
   "outputs": [
    {
     "ename": "IndentationError",
     "evalue": "unexpected indent (3653158418.py, line 45)",
     "output_type": "error",
     "traceback": [
      "\u001b[1;36m  File \u001b[1;32m\"C:\\Users\\JuJu\\AppData\\Local\\Temp\\ipykernel_18836\\3653158418.py\"\u001b[1;36m, line \u001b[1;32m45\u001b[0m\n\u001b[1;33m    return window.mainloop()\u001b[0m\n\u001b[1;37m    ^\u001b[0m\n\u001b[1;31mIndentationError\u001b[0m\u001b[1;31m:\u001b[0m unexpected indent\n"
     ]
    }
   ],
   "source": [
    "# functions to create the selector box\n",
    "\n",
    "def selector_box():\n",
    "    window=Tk()\n",
    "    # window\n",
    "    window.title('Covid-19 Counter')\n",
    "\n",
    "\n",
    "    # label for country entry\n",
    "    lbl=Label(window, text=\"Select Country\", font=(\"Helvetica\", 16)).grid(row=0, column=0, sticky=W)\n",
    "    country = Combobox(window).grid(row=0, column =1, sticky=E)\n",
    "\n",
    "    # checkbuttons for global\n",
    "\n",
    "    Checkbutton1 = IntVar()  \n",
    "    Checkbutton2 = IntVar()  \n",
    "\n",
    "    button1 = Checkbutton(window, text = \"Global\", \n",
    "    #                       variable = global,\n",
    "                          onvalue = True,\n",
    "                          offvalue = False,\n",
    "                          width = 10).grid(row=1, column =1)\n",
    "\n",
    "    # labels for selecting dates\n",
    "    lbl2=Label(window, text=\"Select start date\", font=(\"Helvetica\", 16)).grid(row=5, column=0, sticky=W)  \n",
    "    start_date = Combobox(window).grid(row=5, column =1, sticky=W)\n",
    "\n",
    "    lbl3=Label(window, text=\"Select end date\", font=(\"Helvetica\", 16)).grid(row=6, column=0, sticky=E)  \n",
    "    end_date = Combobox(window).grid(row=6, column =1, sticky=W)\n",
    "\n",
    "    # checkboxes fot selected dates\n",
    "    r1=Radiobutton(window, text=\"Last three months\", variable=v0,value=1).grid(row=7, column =0, sticky=W)\n",
    "    r2=Radiobutton(window, text=\"Last week\", variable=v0,value=2).grid(row=8, column =0, sticky=W)\n",
    "\n",
    "    # list of Countries\n",
    "    # countries_list = tk.StringVar()\n",
    "    # combobox = ttk.Combobox(container, textvariable=current_var)\n",
    "\n",
    "    # search button\n",
    "    btn = Button(window, text = 'Search', \n",
    "                              command = window.destroy).grid(row=9, column =1)\n",
    " \n",
    " \n",
    "\n",
    "        return window.mainloop()\n",
    "    \n",
    "    \n",
    "selector_box()"
   ]
  },
  {
   "cell_type": "code",
   "execution_count": null,
   "id": "70d6911a",
   "metadata": {},
   "outputs": [],
   "source": []
  }
 ],
 "metadata": {
  "kernelspec": {
   "display_name": "Python 3 (ipykernel)",
   "language": "python",
   "name": "python3"
  },
  "language_info": {
   "codemirror_mode": {
    "name": "ipython",
    "version": 3
   },
   "file_extension": ".py",
   "mimetype": "text/x-python",
   "name": "python",
   "nbconvert_exporter": "python",
   "pygments_lexer": "ipython3",
   "version": "3.7.4"
  }
 },
 "nbformat": 4,
 "nbformat_minor": 5
}
