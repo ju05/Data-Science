{
 "cells": [
  {
   "cell_type": "code",
   "execution_count": 14,
   "id": "6b915c13",
   "metadata": {},
   "outputs": [],
   "source": [
    "import pandas as pd\n",
    "import numpy as np\n",
    "import matplotlib.pyplot as plt \n"
   ]
  },
  {
   "cell_type": "code",
   "execution_count": 15,
   "id": "b3614aa2",
   "metadata": {},
   "outputs": [],
   "source": [
    "whole_data = pd.read_csv(r'C:\\Users\\JuJu\\Desktop\\DI-Bootcamp\\Deltika\\performances_data.csv')\n",
    "meta_data = pd.read_csv(r'C:\\Users\\JuJu\\Desktop\\DI-Bootcamp\\Deltika\\meta_data.csv')"
   ]
  },
  {
   "cell_type": "code",
   "execution_count": 16,
   "id": "c9b00bd1",
   "metadata": {},
   "outputs": [
    {
     "data": {
      "text/html": [
       "<div>\n",
       "<style scoped>\n",
       "    .dataframe tbody tr th:only-of-type {\n",
       "        vertical-align: middle;\n",
       "    }\n",
       "\n",
       "    .dataframe tbody tr th {\n",
       "        vertical-align: top;\n",
       "    }\n",
       "\n",
       "    .dataframe thead th {\n",
       "        text-align: right;\n",
       "    }\n",
       "</style>\n",
       "<table border=\"1\" class=\"dataframe\">\n",
       "  <thead>\n",
       "    <tr style=\"text-align: right;\">\n",
       "      <th></th>\n",
       "      <th>id</th>\n",
       "      <th>year</th>\n",
       "      <th>month</th>\n",
       "      <th>income</th>\n",
       "    </tr>\n",
       "  </thead>\n",
       "  <tbody>\n",
       "    <tr>\n",
       "      <th>0</th>\n",
       "      <td>31415</td>\n",
       "      <td>2021</td>\n",
       "      <td>6</td>\n",
       "      <td>178.498924</td>\n",
       "    </tr>\n",
       "    <tr>\n",
       "      <th>1</th>\n",
       "      <td>31415</td>\n",
       "      <td>2021</td>\n",
       "      <td>5</td>\n",
       "      <td>180.846730</td>\n",
       "    </tr>\n",
       "    <tr>\n",
       "      <th>2</th>\n",
       "      <td>31415</td>\n",
       "      <td>2021</td>\n",
       "      <td>4</td>\n",
       "      <td>175.405917</td>\n",
       "    </tr>\n",
       "    <tr>\n",
       "      <th>3</th>\n",
       "      <td>31415</td>\n",
       "      <td>2021</td>\n",
       "      <td>3</td>\n",
       "      <td>154.506319</td>\n",
       "    </tr>\n",
       "    <tr>\n",
       "      <th>4</th>\n",
       "      <td>31415</td>\n",
       "      <td>2021</td>\n",
       "      <td>2</td>\n",
       "      <td>140.830969</td>\n",
       "    </tr>\n",
       "  </tbody>\n",
       "</table>\n",
       "</div>"
      ],
      "text/plain": [
       "      id  year  month      income\n",
       "0  31415  2021      6  178.498924\n",
       "1  31415  2021      5  180.846730\n",
       "2  31415  2021      4  175.405917\n",
       "3  31415  2021      3  154.506319\n",
       "4  31415  2021      2  140.830969"
      ]
     },
     "execution_count": 16,
     "metadata": {},
     "output_type": "execute_result"
    }
   ],
   "source": [
    "whole_data.head()"
   ]
  },
  {
   "cell_type": "code",
   "execution_count": 17,
   "id": "cead7311",
   "metadata": {},
   "outputs": [
    {
     "data": {
      "text/plain": [
       "id        1440\n",
       "year      1440\n",
       "month     1440\n",
       "income    1440\n",
       "dtype: int64"
      ]
     },
     "execution_count": 17,
     "metadata": {},
     "output_type": "execute_result"
    }
   ],
   "source": [
    "whole_data.count()"
   ]
  },
  {
   "cell_type": "code",
   "execution_count": 18,
   "id": "6d1540b2",
   "metadata": {},
   "outputs": [
    {
     "name": "stdout",
     "output_type": "stream",
     "text": [
      "<class 'pandas.core.frame.DataFrame'>\n",
      "RangeIndex: 1440 entries, 0 to 1439\n",
      "Data columns (total 4 columns):\n",
      " #   Column  Non-Null Count  Dtype  \n",
      "---  ------  --------------  -----  \n",
      " 0   id      1440 non-null   int64  \n",
      " 1   year    1440 non-null   int64  \n",
      " 2   month   1440 non-null   int64  \n",
      " 3   income  1440 non-null   float64\n",
      "dtypes: float64(1), int64(3)\n",
      "memory usage: 45.1 KB\n"
     ]
    }
   ],
   "source": [
    "whole_data.info()"
   ]
  },
  {
   "cell_type": "code",
   "execution_count": 19,
   "id": "fc566238",
   "metadata": {},
   "outputs": [],
   "source": [
    "# after cheking that the year and month column is int and would be calculate as number in the next tasks, \n",
    "# I decided to change it for str"
   ]
  },
  {
   "cell_type": "code",
   "execution_count": 20,
   "id": "63593603",
   "metadata": {},
   "outputs": [
    {
     "name": "stdout",
     "output_type": "stream",
     "text": [
      "<class 'pandas.core.frame.DataFrame'>\n",
      "RangeIndex: 1440 entries, 0 to 1439\n",
      "Data columns (total 4 columns):\n",
      " #   Column  Non-Null Count  Dtype  \n",
      "---  ------  --------------  -----  \n",
      " 0   id      1440 non-null   int64  \n",
      " 1   year    1440 non-null   object \n",
      " 2   month   1440 non-null   object \n",
      " 3   income  1440 non-null   float64\n",
      "dtypes: float64(1), int64(1), object(2)\n",
      "memory usage: 45.1+ KB\n"
     ]
    }
   ],
   "source": [
    "whole_data = whole_data.astype({\"year\": str, 'month':str})\n",
    "whole_data.info()"
   ]
  },
  {
   "cell_type": "code",
   "execution_count": 21,
   "id": "72d2a087",
   "metadata": {},
   "outputs": [
    {
     "data": {
      "text/html": [
       "<div>\n",
       "<style scoped>\n",
       "    .dataframe tbody tr th:only-of-type {\n",
       "        vertical-align: middle;\n",
       "    }\n",
       "\n",
       "    .dataframe tbody tr th {\n",
       "        vertical-align: top;\n",
       "    }\n",
       "\n",
       "    .dataframe thead th {\n",
       "        text-align: right;\n",
       "    }\n",
       "</style>\n",
       "<table border=\"1\" class=\"dataframe\">\n",
       "  <thead>\n",
       "    <tr style=\"text-align: right;\">\n",
       "      <th></th>\n",
       "      <th>id</th>\n",
       "      <th>income</th>\n",
       "    </tr>\n",
       "  </thead>\n",
       "  <tbody>\n",
       "    <tr>\n",
       "      <th>count</th>\n",
       "      <td>1.440000e+03</td>\n",
       "      <td>1440.000000</td>\n",
       "    </tr>\n",
       "    <tr>\n",
       "      <th>mean</th>\n",
       "      <td>1.224781e+07</td>\n",
       "      <td>195.131023</td>\n",
       "    </tr>\n",
       "    <tr>\n",
       "      <th>std</th>\n",
       "      <td>1.337185e+07</td>\n",
       "      <td>34.594137</td>\n",
       "    </tr>\n",
       "    <tr>\n",
       "      <th>min</th>\n",
       "      <td>0.000000e+00</td>\n",
       "      <td>117.134174</td>\n",
       "    </tr>\n",
       "    <tr>\n",
       "      <th>25%</th>\n",
       "      <td>2.406575e+04</td>\n",
       "      <td>169.807996</td>\n",
       "    </tr>\n",
       "    <tr>\n",
       "      <th>50%</th>\n",
       "      <td>8.616984e+06</td>\n",
       "      <td>192.746357</td>\n",
       "    </tr>\n",
       "    <tr>\n",
       "      <th>75%</th>\n",
       "      <td>2.132692e+07</td>\n",
       "      <td>217.208782</td>\n",
       "    </tr>\n",
       "    <tr>\n",
       "      <th>max</th>\n",
       "      <td>6.626070e+07</td>\n",
       "      <td>300.111043</td>\n",
       "    </tr>\n",
       "  </tbody>\n",
       "</table>\n",
       "</div>"
      ],
      "text/plain": [
       "                 id       income\n",
       "count  1.440000e+03  1440.000000\n",
       "mean   1.224781e+07   195.131023\n",
       "std    1.337185e+07    34.594137\n",
       "min    0.000000e+00   117.134174\n",
       "25%    2.406575e+04   169.807996\n",
       "50%    8.616984e+06   192.746357\n",
       "75%    2.132692e+07   217.208782\n",
       "max    6.626070e+07   300.111043"
      ]
     },
     "execution_count": 21,
     "metadata": {},
     "output_type": "execute_result"
    }
   ],
   "source": [
    "whole_data.describe()"
   ]
  },
  {
   "cell_type": "markdown",
   "id": "ca529883",
   "metadata": {},
   "source": [
    "# Datasets: "
   ]
  },
  {
   "cell_type": "markdown",
   "id": "c81b1cd9",
   "metadata": {},
   "source": [
    "# mean df"
   ]
  },
  {
   "cell_type": "code",
   "execution_count": 31,
   "id": "23a06500",
   "metadata": {},
   "outputs": [
    {
     "name": "stdout",
     "output_type": "stream",
     "text": [
      "[31415, 628318, 27182818, 5772156, 16180339, 14142135, 17320508, 22360679, 26457513, 33166247, 1729, 8121980, 17121903, 1011879, 1492, 0, 711, 7031876, 1928, 21071969, 28091895, 9111989, 7111867, 3121994, 1011983, 10000300, 23091846, 66260701, 25121642, 15021564, 5091946, 1978, 1979, 1998, 2018, 23061912, 1859, 22091791, 20071822, 14031879]\n"
     ]
    }
   ],
   "source": [
    "ids = whole_data['id'].values\n",
    "unique_ids = list(dict.fromkeys(ids))\n",
    "\n",
    "print(unique_ids)\n"
   ]
  },
  {
   "cell_type": "code",
   "execution_count": 35,
   "id": "205ddb43",
   "metadata": {},
   "outputs": [],
   "source": [
    "def get_mean(column_name):\n",
    "    means_list = []\n",
    "    for i in unique_ids:\n",
    "        m = whole_data.loc[whole_data['id'] == i, column_name].mean()\n",
    "        means_list.append(m)\n",
    "    return means_list\n",
    "    \n",
    "means_list = get_mean('income')"
   ]
  },
  {
   "cell_type": "code",
   "execution_count": 36,
   "id": "f0532909",
   "metadata": {},
   "outputs": [
    {
     "data": {
      "text/html": [
       "<div>\n",
       "<style scoped>\n",
       "    .dataframe tbody tr th:only-of-type {\n",
       "        vertical-align: middle;\n",
       "    }\n",
       "\n",
       "    .dataframe tbody tr th {\n",
       "        vertical-align: top;\n",
       "    }\n",
       "\n",
       "    .dataframe thead th {\n",
       "        text-align: right;\n",
       "    }\n",
       "</style>\n",
       "<table border=\"1\" class=\"dataframe\">\n",
       "  <thead>\n",
       "    <tr style=\"text-align: right;\">\n",
       "      <th></th>\n",
       "      <th>id</th>\n",
       "      <th>mean</th>\n",
       "    </tr>\n",
       "  </thead>\n",
       "  <tbody>\n",
       "    <tr>\n",
       "      <th>0</th>\n",
       "      <td>31415</td>\n",
       "      <td>160.366902</td>\n",
       "    </tr>\n",
       "    <tr>\n",
       "      <th>1</th>\n",
       "      <td>628318</td>\n",
       "      <td>160.420345</td>\n",
       "    </tr>\n",
       "    <tr>\n",
       "      <th>2</th>\n",
       "      <td>27182818</td>\n",
       "      <td>160.355370</td>\n",
       "    </tr>\n",
       "    <tr>\n",
       "      <th>3</th>\n",
       "      <td>5772156</td>\n",
       "      <td>160.450668</td>\n",
       "    </tr>\n",
       "    <tr>\n",
       "      <th>4</th>\n",
       "      <td>16180339</td>\n",
       "      <td>159.905640</td>\n",
       "    </tr>\n",
       "  </tbody>\n",
       "</table>\n",
       "</div>"
      ],
      "text/plain": [
       "         id        mean\n",
       "0     31415  160.366902\n",
       "1    628318  160.420345\n",
       "2  27182818  160.355370\n",
       "3   5772156  160.450668\n",
       "4  16180339  159.905640"
      ]
     },
     "execution_count": 36,
     "metadata": {},
     "output_type": "execute_result"
    }
   ],
   "source": [
    "d = {\"id\":unique_ids, 'mean': means_list}\n",
    "mean_data = pd.DataFrame(d)\n",
    "mean_data.head()"
   ]
  },
  {
   "cell_type": "markdown",
   "id": "8a430bad",
   "metadata": {},
   "source": [
    "# STD df"
   ]
  },
  {
   "cell_type": "code",
   "execution_count": 40,
   "id": "4eef13ac",
   "metadata": {},
   "outputs": [],
   "source": [
    "def get_std(column_name):\n",
    "    std_list = []\n",
    "    for i in unique_ids:\n",
    "        s = whole_data.loc[whole_data['id'] == i, column_name].std()\n",
    "        std_list.append(s)\n",
    "    return std_list\n",
    "    \n",
    "std_list = get_std('income')"
   ]
  },
  {
   "cell_type": "code",
   "execution_count": 41,
   "id": "5dd9ac56",
   "metadata": {},
   "outputs": [
    {
     "data": {
      "text/html": [
       "<div>\n",
       "<style scoped>\n",
       "    .dataframe tbody tr th:only-of-type {\n",
       "        vertical-align: middle;\n",
       "    }\n",
       "\n",
       "    .dataframe tbody tr th {\n",
       "        vertical-align: top;\n",
       "    }\n",
       "\n",
       "    .dataframe thead th {\n",
       "        text-align: right;\n",
       "    }\n",
       "</style>\n",
       "<table border=\"1\" class=\"dataframe\">\n",
       "  <thead>\n",
       "    <tr style=\"text-align: right;\">\n",
       "      <th></th>\n",
       "      <th>id</th>\n",
       "      <th>std</th>\n",
       "    </tr>\n",
       "  </thead>\n",
       "  <tbody>\n",
       "    <tr>\n",
       "      <th>0</th>\n",
       "      <td>31415</td>\n",
       "      <td>18.886426</td>\n",
       "    </tr>\n",
       "    <tr>\n",
       "      <th>1</th>\n",
       "      <td>628318</td>\n",
       "      <td>19.361674</td>\n",
       "    </tr>\n",
       "    <tr>\n",
       "      <th>2</th>\n",
       "      <td>27182818</td>\n",
       "      <td>18.940191</td>\n",
       "    </tr>\n",
       "    <tr>\n",
       "      <th>3</th>\n",
       "      <td>5772156</td>\n",
       "      <td>19.478422</td>\n",
       "    </tr>\n",
       "    <tr>\n",
       "      <th>4</th>\n",
       "      <td>16180339</td>\n",
       "      <td>19.304302</td>\n",
       "    </tr>\n",
       "  </tbody>\n",
       "</table>\n",
       "</div>"
      ],
      "text/plain": [
       "         id        std\n",
       "0     31415  18.886426\n",
       "1    628318  19.361674\n",
       "2  27182818  18.940191\n",
       "3   5772156  19.478422\n",
       "4  16180339  19.304302"
      ]
     },
     "execution_count": 41,
     "metadata": {},
     "output_type": "execute_result"
    }
   ],
   "source": [
    "d2 = {\"id\":unique_ids, 'std': std_list}\n",
    "std_data = pd.DataFrame(d2)\n",
    "std_data.head()"
   ]
  },
  {
   "cell_type": "markdown",
   "id": "e5d9beed",
   "metadata": {},
   "source": [
    "# Mean and STD df "
   ]
  },
  {
   "cell_type": "code",
   "execution_count": 42,
   "id": "bf994348",
   "metadata": {},
   "outputs": [
    {
     "data": {
      "text/html": [
       "<div>\n",
       "<style scoped>\n",
       "    .dataframe tbody tr th:only-of-type {\n",
       "        vertical-align: middle;\n",
       "    }\n",
       "\n",
       "    .dataframe tbody tr th {\n",
       "        vertical-align: top;\n",
       "    }\n",
       "\n",
       "    .dataframe thead th {\n",
       "        text-align: right;\n",
       "    }\n",
       "</style>\n",
       "<table border=\"1\" class=\"dataframe\">\n",
       "  <thead>\n",
       "    <tr style=\"text-align: right;\">\n",
       "      <th></th>\n",
       "      <th>id</th>\n",
       "      <th>mean</th>\n",
       "      <th>std</th>\n",
       "    </tr>\n",
       "  </thead>\n",
       "  <tbody>\n",
       "    <tr>\n",
       "      <th>0</th>\n",
       "      <td>31415</td>\n",
       "      <td>160.366902</td>\n",
       "      <td>18.886426</td>\n",
       "    </tr>\n",
       "    <tr>\n",
       "      <th>1</th>\n",
       "      <td>628318</td>\n",
       "      <td>160.420345</td>\n",
       "      <td>19.361674</td>\n",
       "    </tr>\n",
       "    <tr>\n",
       "      <th>2</th>\n",
       "      <td>27182818</td>\n",
       "      <td>160.355370</td>\n",
       "      <td>18.940191</td>\n",
       "    </tr>\n",
       "    <tr>\n",
       "      <th>3</th>\n",
       "      <td>5772156</td>\n",
       "      <td>160.450668</td>\n",
       "      <td>19.478422</td>\n",
       "    </tr>\n",
       "    <tr>\n",
       "      <th>4</th>\n",
       "      <td>16180339</td>\n",
       "      <td>159.905640</td>\n",
       "      <td>19.304302</td>\n",
       "    </tr>\n",
       "  </tbody>\n",
       "</table>\n",
       "</div>"
      ],
      "text/plain": [
       "         id        mean        std\n",
       "0     31415  160.366902  18.886426\n",
       "1    628318  160.420345  19.361674\n",
       "2  27182818  160.355370  18.940191\n",
       "3   5772156  160.450668  19.478422\n",
       "4  16180339  159.905640  19.304302"
      ]
     },
     "execution_count": 42,
     "metadata": {},
     "output_type": "execute_result"
    }
   ],
   "source": [
    "d3 = {\"id\":unique_ids, 'mean': means_list, 'std': std_list}\n",
    "mean_std = pd.DataFrame(d3)\n",
    "mean_std.head()"
   ]
  },
  {
   "cell_type": "code",
   "execution_count": 44,
   "id": "2e8ab20d",
   "metadata": {},
   "outputs": [
    {
     "name": "stdout",
     "output_type": "stream",
     "text": [
      "<class 'pandas.core.frame.DataFrame'>\n",
      "RangeIndex: 40 entries, 0 to 39\n",
      "Data columns (total 3 columns):\n",
      " #   Column  Non-Null Count  Dtype  \n",
      "---  ------  --------------  -----  \n",
      " 0   id      40 non-null     int64  \n",
      " 1   mean    40 non-null     float64\n",
      " 2   std     40 non-null     float64\n",
      "dtypes: float64(2), int64(1)\n",
      "memory usage: 1.1 KB\n"
     ]
    }
   ],
   "source": [
    "mean_std.info()"
   ]
  },
  {
   "cell_type": "markdown",
   "id": "cb0d961d",
   "metadata": {},
   "source": [
    "# Task A) and B): plot the data and inspect the graphs"
   ]
  },
  {
   "cell_type": "markdown",
   "id": "d1a39f81",
   "metadata": {},
   "source": [
    "# 1 and 4: whole_data and mean_std"
   ]
  },
  {
   "cell_type": "code",
   "execution_count": 61,
   "id": "c1211813",
   "metadata": {},
   "outputs": [],
   "source": [
    "years = whole_data['year']\n",
    "months = whole_data['month']\n",
    "income = whole_data['income']\n"
   ]
  },
  {
   "cell_type": "code",
   "execution_count": 62,
   "id": "61c44b66",
   "metadata": {},
   "outputs": [
    {
     "data": {
      "image/png": "[encoded data removed]",
      "text/plain": [
       "<Figure size 432x288 with 1 Axes>"
      ]
     },
     "metadata": {
      "needs_background": "light"
     },
     "output_type": "display_data"
    }
   ],
   "source": [
    "x = years\n",
    "y = income\n",
    "plt.bar(x, y)\n",
    "plt.xlabel('years')\n",
    "plt.ylabel('income amount')\n",
    "plt.title('income by years')\n",
    "plt.show()"
   ]
  },
  {
   "cell_type": "code",
   "execution_count": 48,
   "id": "fa8f6fdd",
   "metadata": {},
   "outputs": [],
   "source": [
    "# income by years: # we can see that 2021`s incomes \n",
    "# potencially will be more than 2020`s incomes because these data is just for the first six months of 2021"
   ]
  },
  {
   "cell_type": "code",
   "execution_count": 49,
   "id": "863b4f30",
   "metadata": {},
   "outputs": [
    {
     "data": {
      "image/png": "[encoded data removed]",
      "text/plain": [
       "<Figure size 432x288 with 1 Axes>"
      ]
     },
     "metadata": {
      "needs_background": "light"
     },
     "output_type": "display_data"
    }
   ],
   "source": [
    "plt.scatter(months, income)\n",
    "plt.xlabel('months')\n",
    "plt.ylabel('income amount')\n",
    "plt.title('income by month')\n",
    "plt.show()"
   ]
  },
  {
   "cell_type": "code",
   "execution_count": 50,
   "id": "2bc18865",
   "metadata": {},
   "outputs": [],
   "source": [
    "# income by month: \n",
    "# we can see clearly what are the months that the income amount is better: September and October."
   ]
  },
  {
   "cell_type": "code",
   "execution_count": 422,
   "id": "c1e0ee60",
   "metadata": {},
   "outputs": [
    {
     "data": {
      "image/png": "[encoded data removed]",
      "text/plain": [
       "<Figure size 432x288 with 1 Axes>"
      ]
     },
     "metadata": {
      "needs_background": "light"
     },
     "output_type": "display_data"
    }
   ],
   "source": [
    "v_mean = mean_std['mean']\n",
    "v_std = mean_std['std']\n",
    "plt.scatter(v_mean, v_std)\n",
    "plt.xlabel('mean')\n",
    "plt.ylabel('std')\n",
    "plt.title('mean and std relation')\n",
    "plt.show()"
   ]
  },
  {
   "cell_type": "code",
   "execution_count": 51,
   "id": "0553070d",
   "metadata": {},
   "outputs": [],
   "source": [
    "# mean and std relation:\n",
    "# we can see ~7 groups of relational mean and std"
   ]
  },
  {
   "cell_type": "markdown",
   "id": "7e5707a0",
   "metadata": {},
   "source": [
    "# 2 and 3: Ploting mean_data and std_data"
   ]
  },
  {
   "cell_type": "code",
   "execution_count": 52,
   "id": "36f09f7f",
   "metadata": {},
   "outputs": [
    {
     "data": {
      "image/png": "[encoded data removed]",
      "text/plain": [
       "<Figure size 432x288 with 1 Axes>"
      ]
     },
     "metadata": {
      "needs_background": "light"
     },
     "output_type": "display_data"
    }
   ],
   "source": [
    "mean_data.hist(column = 'mean', rwidth= 0.5)\n",
    "plt.title('mean value per quantity of properties')\n",
    "plt.xlabel('mean value')\n",
    "plt.ylabel('quantity of properties')\n",
    "plt.show()\n",
    "\n",
    "\n"
   ]
  },
  {
   "cell_type": "code",
   "execution_count": 425,
   "id": "fb61ff6a",
   "metadata": {},
   "outputs": [],
   "source": [
    "# quantity of properties\n",
    "# we can see that there are 4 groups of mean: \n",
    "# A) mean between ~160 and ~192\n",
    "# B) mean between ~192 and ~200\n",
    "# C) mean between ~200 and ~209 \n",
    "# D) mean between ~233 and ~241"
   ]
  },
  {
   "cell_type": "code",
   "execution_count": 53,
   "id": "dafbbd9f",
   "metadata": {},
   "outputs": [
    {
     "data": {
      "image/png": "[encoded data removed]",
      "text/plain": [
       "<Figure size 432x288 with 1 Axes>"
      ]
     },
     "metadata": {
      "needs_background": "light"
     },
     "output_type": "display_data"
    }
   ],
   "source": [
    "std_data.hist(column = 'std', rwidth= 0.5)\n",
    "plt.title('STD value per quantity of properties')\n",
    "plt.xlabel('std value')\n",
    "plt.ylabel('quantity of properties')\n",
    "plt.show()"
   ]
  },
  {
   "cell_type": "code",
   "execution_count": 54,
   "id": "a7a406b9",
   "metadata": {},
   "outputs": [],
   "source": [
    "# STD value per quantity of properties:\n",
    "# we can see that there are 3 groups of std:\n",
    "# A) std between ~19.5 and ~21.5\n",
    "# B) std between ~22.5 and ~26\n",
    "# C) std between ~28.5 and ~31 "
   ]
  },
  {
   "cell_type": "markdown",
   "id": "4730ea0d",
   "metadata": {},
   "source": [
    "# Task C) K-means and elbow method"
   ]
  },
  {
   "cell_type": "code",
   "execution_count": 55,
   "id": "9d810ac4",
   "metadata": {},
   "outputs": [],
   "source": [
    "from sklearn.cluster import KMeans"
   ]
  },
  {
   "cell_type": "code",
   "execution_count": 429,
   "id": "1ece9cde",
   "metadata": {
    "scrolled": false
   },
   "outputs": [
    {
     "name": "stderr",
     "output_type": "stream",
     "text": [
      "C:\\Users\\JuJu\\Anaconda3\\lib\\site-packages\\sklearn\\cluster\\_kmeans.py:1037: UserWarning: KMeans is known to have a memory leak on Windows with MKL, when there are less chunks than available threads. You can avoid it by setting the environment variable OMP_NUM_THREADS=1.\n",
      "  \"KMeans is known to have a memory leak on Windows \"\n"
     ]
    },
    {
     "data": {
      "image/png": "[encoded data removed]",
      "text/plain": [
       "<Figure size 1152x432 with 1 Axes>"
      ]
     },
     "metadata": {
      "needs_background": "light"
     },
     "output_type": "display_data"
    }
   ],
   "source": [
    "n_cluster = range(1,10)\n",
    "\n",
    "kmeans = [KMeans(n_clusters=i).fit(mean_std) for i in n_cluster]\n",
    "\n",
    "scores = [kmeans[i].score(mean_std) for i in range(len(kmeans))]\n",
    "    \n",
    "f = plt.figure(1, figsize=(16,6))\n",
    "plt.plot(scores)\n",
    "_=plt.xticks(n_cluster)"
   ]
  },
  {
   "cell_type": "code",
   "execution_count": 430,
   "id": "de8cfb39",
   "metadata": {},
   "outputs": [
    {
     "name": "stdout",
     "output_type": "stream",
     "text": [
      "6\n"
     ]
    }
   ],
   "source": [
    "scores = np.array(scores)\n",
    "dif_scores = scores / scores[0]\n",
    "dif_scores = np.diff(dif_scores)\n",
    "n_clusters = np.argwhere(dif_scores < np.quantile(dif_scores, 0.9))[-1][0]\n",
    "print(n_clusters)"
   ]
  },
  {
   "cell_type": "markdown",
   "id": "e4fd9606",
   "metadata": {},
   "source": [
    "# optimal number of clusters = 6"
   ]
  },
  {
   "cell_type": "markdown",
   "id": "87cd3011",
   "metadata": {},
   "source": [
    "# Task D) Verify the results"
   ]
  },
  {
   "cell_type": "code",
   "execution_count": 431,
   "id": "c3adc4aa",
   "metadata": {},
   "outputs": [],
   "source": [
    "# a)Merge the neighborhood and number of rooms data into the performances data."
   ]
  },
  {
   "cell_type": "code",
   "execution_count": 56,
   "id": "fce47dac",
   "metadata": {},
   "outputs": [
    {
     "data": {
      "text/html": [
       "<div>\n",
       "<style scoped>\n",
       "    .dataframe tbody tr th:only-of-type {\n",
       "        vertical-align: middle;\n",
       "    }\n",
       "\n",
       "    .dataframe tbody tr th {\n",
       "        vertical-align: top;\n",
       "    }\n",
       "\n",
       "    .dataframe thead th {\n",
       "        text-align: right;\n",
       "    }\n",
       "</style>\n",
       "<table border=\"1\" class=\"dataframe\">\n",
       "  <thead>\n",
       "    <tr style=\"text-align: right;\">\n",
       "      <th></th>\n",
       "      <th>id</th>\n",
       "      <th>name</th>\n",
       "      <th>neighborhood</th>\n",
       "      <th>rooms</th>\n",
       "    </tr>\n",
       "  </thead>\n",
       "  <tbody>\n",
       "    <tr>\n",
       "      <th>0</th>\n",
       "      <td>31415</td>\n",
       "      <td>Pi rd.</td>\n",
       "      <td>Chelsea</td>\n",
       "      <td>1</td>\n",
       "    </tr>\n",
       "    <tr>\n",
       "      <th>1</th>\n",
       "      <td>628318</td>\n",
       "      <td>Tau st.</td>\n",
       "      <td>Chelsea</td>\n",
       "      <td>1</td>\n",
       "    </tr>\n",
       "    <tr>\n",
       "      <th>2</th>\n",
       "      <td>27182818</td>\n",
       "      <td>Euler place</td>\n",
       "      <td>Chelsea</td>\n",
       "      <td>1</td>\n",
       "    </tr>\n",
       "    <tr>\n",
       "      <th>3</th>\n",
       "      <td>5772156</td>\n",
       "      <td>Euler–Mascheroni place</td>\n",
       "      <td>Chelsea</td>\n",
       "      <td>1</td>\n",
       "    </tr>\n",
       "    <tr>\n",
       "      <th>4</th>\n",
       "      <td>16180339</td>\n",
       "      <td>Golden cirlce</td>\n",
       "      <td>Chelsea</td>\n",
       "      <td>1</td>\n",
       "    </tr>\n",
       "  </tbody>\n",
       "</table>\n",
       "</div>"
      ],
      "text/plain": [
       "         id                    name neighborhood  rooms\n",
       "0     31415                  Pi rd.      Chelsea      1\n",
       "1    628318                 Tau st.      Chelsea      1\n",
       "2  27182818             Euler place      Chelsea      1\n",
       "3   5772156  Euler–Mascheroni place      Chelsea      1\n",
       "4  16180339           Golden cirlce      Chelsea      1"
      ]
     },
     "execution_count": 56,
     "metadata": {},
     "output_type": "execute_result"
    }
   ],
   "source": [
    "meta_data.head()"
   ]
  },
  {
   "cell_type": "code",
   "execution_count": 57,
   "id": "23eee386",
   "metadata": {},
   "outputs": [
    {
     "data": {
      "text/html": [
       "<div>\n",
       "<style scoped>\n",
       "    .dataframe tbody tr th:only-of-type {\n",
       "        vertical-align: middle;\n",
       "    }\n",
       "\n",
       "    .dataframe tbody tr th {\n",
       "        vertical-align: top;\n",
       "    }\n",
       "\n",
       "    .dataframe thead th {\n",
       "        text-align: right;\n",
       "    }\n",
       "</style>\n",
       "<table border=\"1\" class=\"dataframe\">\n",
       "  <thead>\n",
       "    <tr style=\"text-align: right;\">\n",
       "      <th></th>\n",
       "      <th>id</th>\n",
       "      <th>year</th>\n",
       "      <th>month</th>\n",
       "      <th>income</th>\n",
       "      <th>name</th>\n",
       "      <th>neighborhood</th>\n",
       "      <th>rooms</th>\n",
       "    </tr>\n",
       "  </thead>\n",
       "  <tbody>\n",
       "    <tr>\n",
       "      <th>0</th>\n",
       "      <td>31415</td>\n",
       "      <td>2021</td>\n",
       "      <td>6</td>\n",
       "      <td>178.498924</td>\n",
       "      <td>Pi rd.</td>\n",
       "      <td>Chelsea</td>\n",
       "      <td>1</td>\n",
       "    </tr>\n",
       "    <tr>\n",
       "      <th>1</th>\n",
       "      <td>31415</td>\n",
       "      <td>2021</td>\n",
       "      <td>5</td>\n",
       "      <td>180.846730</td>\n",
       "      <td>Pi rd.</td>\n",
       "      <td>Chelsea</td>\n",
       "      <td>1</td>\n",
       "    </tr>\n",
       "    <tr>\n",
       "      <th>2</th>\n",
       "      <td>31415</td>\n",
       "      <td>2021</td>\n",
       "      <td>4</td>\n",
       "      <td>175.405917</td>\n",
       "      <td>Pi rd.</td>\n",
       "      <td>Chelsea</td>\n",
       "      <td>1</td>\n",
       "    </tr>\n",
       "    <tr>\n",
       "      <th>3</th>\n",
       "      <td>31415</td>\n",
       "      <td>2021</td>\n",
       "      <td>3</td>\n",
       "      <td>154.506319</td>\n",
       "      <td>Pi rd.</td>\n",
       "      <td>Chelsea</td>\n",
       "      <td>1</td>\n",
       "    </tr>\n",
       "    <tr>\n",
       "      <th>4</th>\n",
       "      <td>31415</td>\n",
       "      <td>2021</td>\n",
       "      <td>2</td>\n",
       "      <td>140.830969</td>\n",
       "      <td>Pi rd.</td>\n",
       "      <td>Chelsea</td>\n",
       "      <td>1</td>\n",
       "    </tr>\n",
       "  </tbody>\n",
       "</table>\n",
       "</div>"
      ],
      "text/plain": [
       "      id  year month      income    name neighborhood  rooms\n",
       "0  31415  2021     6  178.498924  Pi rd.      Chelsea      1\n",
       "1  31415  2021     5  180.846730  Pi rd.      Chelsea      1\n",
       "2  31415  2021     4  175.405917  Pi rd.      Chelsea      1\n",
       "3  31415  2021     3  154.506319  Pi rd.      Chelsea      1\n",
       "4  31415  2021     2  140.830969  Pi rd.      Chelsea      1"
      ]
     },
     "execution_count": 57,
     "metadata": {},
     "output_type": "execute_result"
    }
   ],
   "source": [
    "all_data = pd.merge(whole_data, meta_data, on='id')\n",
    "all_data.head()"
   ]
  },
  {
   "cell_type": "code",
   "execution_count": 58,
   "id": "593ca8ac",
   "metadata": {},
   "outputs": [
    {
     "name": "stdout",
     "output_type": "stream",
     "text": [
      "<class 'pandas.core.frame.DataFrame'>\n",
      "Int64Index: 1440 entries, 0 to 1439\n",
      "Data columns (total 7 columns):\n",
      " #   Column        Non-Null Count  Dtype  \n",
      "---  ------        --------------  -----  \n",
      " 0   id            1440 non-null   int64  \n",
      " 1   year          1440 non-null   object \n",
      " 2   month         1440 non-null   object \n",
      " 3   income        1440 non-null   float64\n",
      " 4   name          1440 non-null   object \n",
      " 5   neighborhood  1440 non-null   object \n",
      " 6   rooms         1440 non-null   int64  \n",
      "dtypes: float64(1), int64(2), object(4)\n",
      "memory usage: 90.0+ KB\n"
     ]
    }
   ],
   "source": [
    "all_data.info()"
   ]
  },
  {
   "cell_type": "code",
   "execution_count": 435,
   "id": "06191fcd",
   "metadata": {},
   "outputs": [],
   "source": [
    "# b) Plot the data with a unique color for each combination of unique neighborhood and number of rooms"
   ]
  },
  {
   "cell_type": "code",
   "execution_count": 436,
   "id": "186a6965",
   "metadata": {},
   "outputs": [],
   "source": [
    "def get_uniques(column_name):\n",
    "    uniques = []\n",
    "    for i in all_data[column_name]:\n",
    "        if i not in uniques:\n",
    "            uniques.append(i)\n",
    "    return uniques"
   ]
  },
  {
   "cell_type": "code",
   "execution_count": 437,
   "id": "da84d471",
   "metadata": {},
   "outputs": [
    {
     "name": "stdout",
     "output_type": "stream",
     "text": [
      "['Chelsea', 'Fulham', 'Soho', 'North Greenwich']\n"
     ]
    }
   ],
   "source": [
    "neighborhood_list = get_uniques('neighborhood')\n",
    "print(neighborhood_list)"
   ]
  },
  {
   "cell_type": "code",
   "execution_count": 438,
   "id": "3dd44818",
   "metadata": {},
   "outputs": [
    {
     "name": "stdout",
     "output_type": "stream",
     "text": [
      "[1, 2]\n"
     ]
    }
   ],
   "source": [
    "rooms_list = get_uniques('rooms')\n",
    "print(rooms_list)"
   ]
  },
  {
   "cell_type": "code",
   "execution_count": 439,
   "id": "589e6860",
   "metadata": {},
   "outputs": [],
   "source": [
    "all_data['neighborhood-rooms'] = all_data['neighborhood'] +\"-\"+ all_data[\"rooms\"].astype(str)\n",
    "neigh_rooms = all_data.drop(columns = ['neighborhood', 'rooms'])"
   ]
  },
  {
   "cell_type": "code",
   "execution_count": 440,
   "id": "d29b0074",
   "metadata": {},
   "outputs": [
    {
     "data": {
      "text/html": [
       "<div>\n",
       "<style scoped>\n",
       "    .dataframe tbody tr th:only-of-type {\n",
       "        vertical-align: middle;\n",
       "    }\n",
       "\n",
       "    .dataframe tbody tr th {\n",
       "        vertical-align: top;\n",
       "    }\n",
       "\n",
       "    .dataframe thead th {\n",
       "        text-align: right;\n",
       "    }\n",
       "</style>\n",
       "<table border=\"1\" class=\"dataframe\">\n",
       "  <thead>\n",
       "    <tr style=\"text-align: right;\">\n",
       "      <th></th>\n",
       "      <th>id</th>\n",
       "      <th>year</th>\n",
       "      <th>month</th>\n",
       "      <th>income</th>\n",
       "      <th>name</th>\n",
       "      <th>neighborhood-rooms</th>\n",
       "    </tr>\n",
       "  </thead>\n",
       "  <tbody>\n",
       "    <tr>\n",
       "      <th>0</th>\n",
       "      <td>31415</td>\n",
       "      <td>2021</td>\n",
       "      <td>6</td>\n",
       "      <td>178.498924</td>\n",
       "      <td>Pi rd.</td>\n",
       "      <td>Chelsea-1</td>\n",
       "    </tr>\n",
       "    <tr>\n",
       "      <th>1</th>\n",
       "      <td>31415</td>\n",
       "      <td>2021</td>\n",
       "      <td>5</td>\n",
       "      <td>180.846730</td>\n",
       "      <td>Pi rd.</td>\n",
       "      <td>Chelsea-1</td>\n",
       "    </tr>\n",
       "    <tr>\n",
       "      <th>2</th>\n",
       "      <td>31415</td>\n",
       "      <td>2021</td>\n",
       "      <td>4</td>\n",
       "      <td>175.405917</td>\n",
       "      <td>Pi rd.</td>\n",
       "      <td>Chelsea-1</td>\n",
       "    </tr>\n",
       "    <tr>\n",
       "      <th>3</th>\n",
       "      <td>31415</td>\n",
       "      <td>2021</td>\n",
       "      <td>3</td>\n",
       "      <td>154.506319</td>\n",
       "      <td>Pi rd.</td>\n",
       "      <td>Chelsea-1</td>\n",
       "    </tr>\n",
       "    <tr>\n",
       "      <th>4</th>\n",
       "      <td>31415</td>\n",
       "      <td>2021</td>\n",
       "      <td>2</td>\n",
       "      <td>140.830969</td>\n",
       "      <td>Pi rd.</td>\n",
       "      <td>Chelsea-1</td>\n",
       "    </tr>\n",
       "  </tbody>\n",
       "</table>\n",
       "</div>"
      ],
      "text/plain": [
       "      id  year month      income    name neighborhood-rooms\n",
       "0  31415  2021     6  178.498924  Pi rd.          Chelsea-1\n",
       "1  31415  2021     5  180.846730  Pi rd.          Chelsea-1\n",
       "2  31415  2021     4  175.405917  Pi rd.          Chelsea-1\n",
       "3  31415  2021     3  154.506319  Pi rd.          Chelsea-1\n",
       "4  31415  2021     2  140.830969  Pi rd.          Chelsea-1"
      ]
     },
     "execution_count": 440,
     "metadata": {},
     "output_type": "execute_result"
    }
   ],
   "source": [
    "neigh_rooms.head()"
   ]
  },
  {
   "cell_type": "code",
   "execution_count": null,
   "id": "fef36072",
   "metadata": {},
   "outputs": [],
   "source": []
  },
  {
   "cell_type": "code",
   "execution_count": 441,
   "id": "c10b7ab4",
   "metadata": {},
   "outputs": [],
   "source": [
    "just_neigh_rooms = neigh_rooms.loc[:, ['id', 'neighborhood-rooms']]\n",
    "just_neigh_rooms = just_neigh_rooms.drop_duplicates(keep= 'first')"
   ]
  },
  {
   "cell_type": "code",
   "execution_count": 442,
   "id": "0a62a743",
   "metadata": {
    "scrolled": true
   },
   "outputs": [
    {
     "data": {
      "text/html": [
       "<div>\n",
       "<style scoped>\n",
       "    .dataframe tbody tr th:only-of-type {\n",
       "        vertical-align: middle;\n",
       "    }\n",
       "\n",
       "    .dataframe tbody tr th {\n",
       "        vertical-align: top;\n",
       "    }\n",
       "\n",
       "    .dataframe thead th {\n",
       "        text-align: right;\n",
       "    }\n",
       "</style>\n",
       "<table border=\"1\" class=\"dataframe\">\n",
       "  <thead>\n",
       "    <tr style=\"text-align: right;\">\n",
       "      <th></th>\n",
       "      <th>id</th>\n",
       "      <th>neighborhood-rooms</th>\n",
       "      <th>mean</th>\n",
       "      <th>std</th>\n",
       "    </tr>\n",
       "  </thead>\n",
       "  <tbody>\n",
       "    <tr>\n",
       "      <th>0</th>\n",
       "      <td>31415</td>\n",
       "      <td>Chelsea-1</td>\n",
       "      <td>160.366902</td>\n",
       "      <td>18.886426</td>\n",
       "    </tr>\n",
       "    <tr>\n",
       "      <th>1</th>\n",
       "      <td>628318</td>\n",
       "      <td>Chelsea-1</td>\n",
       "      <td>160.420345</td>\n",
       "      <td>19.361674</td>\n",
       "    </tr>\n",
       "    <tr>\n",
       "      <th>2</th>\n",
       "      <td>27182818</td>\n",
       "      <td>Chelsea-1</td>\n",
       "      <td>160.355370</td>\n",
       "      <td>18.940191</td>\n",
       "    </tr>\n",
       "    <tr>\n",
       "      <th>3</th>\n",
       "      <td>5772156</td>\n",
       "      <td>Chelsea-1</td>\n",
       "      <td>160.450668</td>\n",
       "      <td>19.478422</td>\n",
       "    </tr>\n",
       "    <tr>\n",
       "      <th>4</th>\n",
       "      <td>16180339</td>\n",
       "      <td>Chelsea-1</td>\n",
       "      <td>159.905640</td>\n",
       "      <td>19.304302</td>\n",
       "    </tr>\n",
       "  </tbody>\n",
       "</table>\n",
       "</div>"
      ],
      "text/plain": [
       "         id neighborhood-rooms        mean        std\n",
       "0     31415          Chelsea-1  160.366902  18.886426\n",
       "1    628318          Chelsea-1  160.420345  19.361674\n",
       "2  27182818          Chelsea-1  160.355370  18.940191\n",
       "3   5772156          Chelsea-1  160.450668  19.478422\n",
       "4  16180339          Chelsea-1  159.905640  19.304302"
      ]
     },
     "execution_count": 442,
     "metadata": {},
     "output_type": "execute_result"
    }
   ],
   "source": [
    "just_neigh_rooms = pd.merge(just_neigh_rooms, mean_std)\n",
    "just_neigh_rooms.head()"
   ]
  },
  {
   "cell_type": "code",
   "execution_count": 450,
   "id": "8b4d7a03",
   "metadata": {},
   "outputs": [
    {
     "data": {
      "text/plain": [
       "<matplotlib.legend.Legend at 0x2addaee9288>"
      ]
     },
     "execution_count": 450,
     "metadata": {},
     "output_type": "execute_result"
    },
    {
     "data": {
      "image/png": "[encoded data removed]",
      "text/plain": [
       "<Figure size 1440x720 with 1 Axes>"
      ]
     },
     "metadata": {
      "needs_background": "light"
     },
     "output_type": "display_data"
    }
   ],
   "source": [
    "import matplotlib.patches\n",
    "\n",
    "levels, categories = pd.factorize(neigh_rooms['neighborhood-rooms'])\n",
    "colors = [plt.cm.tab10(i) for i in levels] # using the \"tab10\" colormap\n",
    "handles = [matplotlib.patches.Patch(color=plt.cm.tab10(i), label=c) for i, c in enumerate(categories)]\n",
    "\n",
    "plt.figure(figsize=(20, 10))\n",
    "plt.scatter(neigh_rooms['month'], neigh_rooms['income'], c=colors,)\n",
    "plt.gca().set(xlabel='months', ylabel='mean', title='income by month grouped by unique neighborhood-rooms combination')\n",
    "plt.legend(handles=handles,  title='Color')"
   ]
  },
  {
   "cell_type": "code",
   "execution_count": 444,
   "id": "8ad1557f",
   "metadata": {},
   "outputs": [],
   "source": [
    "# c)Does the groups found in (b), (c) match the partition made by different neighborhoods and number of rooms?\n",
    "# the partition is of 8 groups. It doesn`t match with the groups found in (B) and (C) but it is very approximated with the groups found in (B) \n",
    "# on the plot \"mean and std relation\" and it is exactly the number showed as the last point of the graphic made in the first part of (C)"
   ]
  },
  {
   "cell_type": "code",
   "execution_count": null,
   "id": "87ad82a8",
   "metadata": {},
   "outputs": [],
   "source": []
  }
 ],
 "metadata": {
  "kernelspec": {
   "display_name": "Python 3 (ipykernel)",
   "language": "python",
   "name": "python3"
  },
  "language_info": {
   "codemirror_mode": {
    "name": "ipython",
    "version": 3
   },
   "file_extension": ".py",
   "mimetype": "text/x-python",
   "name": "python",
   "nbconvert_exporter": "python",
   "pygments_lexer": "ipython3",
   "version": "3.7.4"
  }
 },
 "nbformat": 4,
 "nbformat_minor": 5
}
